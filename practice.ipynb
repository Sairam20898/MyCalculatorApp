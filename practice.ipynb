{
 "metadata": {
  "language_info": {
   "codemirror_mode": {
    "name": "ipython",
    "version": 3
   },
   "file_extension": ".py",
   "mimetype": "text/x-python",
   "name": "python",
   "nbconvert_exporter": "python",
   "pygments_lexer": "ipython3",
   "version": "3.9.1"
  },
  "orig_nbformat": 2,
  "kernelspec": {
   "name": "python391jvsc74a57bd042f048b049faa5eba01695d636a8c85a6eef48e0e3c23cf48f6eac07fe121be3",
   "display_name": "Python 3.9.1 64-bit"
  },
  "metadata": {
   "interpreter": {
    "hash": "42f048b049faa5eba01695d636a8c85a6eef48e0e3c23cf48f6eac07fe121be3"
   }
  }
 },
 "nbformat": 4,
 "nbformat_minor": 2,
 "cells": [
  {
   "cell_type": "code",
   "execution_count": 3,
   "metadata": {},
   "outputs": [
    {
     "output_type": "execute_result",
     "data": {
      "text/plain": [
       "45.4"
      ]
     },
     "metadata": {},
     "execution_count": 3
    }
   ],
   "source": [
    "round(eval(\"85/25+78-36\"),10)"
   ]
  },
  {
   "cell_type": "code",
   "execution_count": null,
   "metadata": {},
   "outputs": [],
   "source": [
    "s=\"fd\"\n",
    "s.startswith()"
   ]
  },
  {
   "cell_type": "code",
   "execution_count": 1,
   "metadata": {},
   "outputs": [
    {
     "output_type": "stream",
     "name": "stdout",
     "text": [
      "['+-', '+*', '+/', '+%', '-*', '-/', '-%', '*/', '*%', '/%', '+-*', '+-/', '+-%', '+*/', '+*%', '+/%', '-*/', '-*%', '-/%', '*/%', '+-*/', '+-*%', '+-/%', '+*/%', '-*/%']\n"
     ]
    }
   ],
   "source": [
    "s=\"+-*/%\"\n",
    "import itertools\n",
    "lis = list(itertools.combinations(s,2))\n",
    "lis1= list(itertools.combinations(s,3))\n",
    "lis2= list(itertools.combinations(s,4))\n",
    "res =[]\n",
    "for i in lis:\n",
    "    res.append(\"\".join(list(i)))\n",
    "for i in lis1:\n",
    "    res.append(\"\".join(list(i)))\n",
    "for i in lis2:\n",
    "    res.append(\"\".join(list(i)))\n",
    "print(res)"
   ]
  },
  {
   "cell_type": "code",
   "execution_count": 3,
   "metadata": {},
   "outputs": [
    {
     "output_type": "stream",
     "name": "stdout",
     "text": [
      "True\n"
     ]
    }
   ],
   "source": [
    "import sai\n",
    "if \"+*\" in sai.oc_list:\n",
    "    print(\"True\")"
   ]
  }
 ]
}